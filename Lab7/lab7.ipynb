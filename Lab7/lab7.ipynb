{
 "cells": [
  {
   "cell_type": "code",
   "execution_count": 1,
   "metadata": {},
   "outputs": [],
   "source": [
    "from cmdstanpy import CmdStanModel\n",
    "import arviz as az\n",
    "import numpy as np\n",
    "import matplotlib.pyplot as plt"
   ]
  },
  {
   "cell_type": "markdown",
   "metadata": {},
   "source": [
    "Excercise 1 - generate data"
   ]
  },
  {
   "cell_type": "code",
   "execution_count": 2,
   "metadata": {},
   "outputs": [
    {
     "name": "stderr",
     "output_type": "stream",
     "text": [
      "INFO:cmdstanpy:compiling stan file C:\\Users\\Wiola\\AGH_Data_Analytics\\Lab7\\code_1.stan to exe file C:\\Users\\Wiola\\AGH_Data_Analytics\\Lab7\\code_1.exe\n",
      "INFO:cmdstanpy:compiled model executable: C:\\Users\\Wiola\\AGH_Data_Analytics\\Lab7\\code_1.exe\n",
      "INFO:cmdstanpy:compiling stan file C:\\Users\\Wiola\\AGH_Data_Analytics\\Lab7\\code_2.stan to exe file C:\\Users\\Wiola\\AGH_Data_Analytics\\Lab7\\code_2.exe\n",
      "INFO:cmdstanpy:compiled model executable: C:\\Users\\Wiola\\AGH_Data_Analytics\\Lab7\\code_2.exe\n",
      "INFO:cmdstanpy:compiling stan file C:\\Users\\Wiola\\AGH_Data_Analytics\\Lab7\\code_3.stan to exe file C:\\Users\\Wiola\\AGH_Data_Analytics\\Lab7\\code_3.exe\n",
      "INFO:cmdstanpy:compiled model executable: C:\\Users\\Wiola\\AGH_Data_Analytics\\Lab7\\code_3.exe\n",
      "INFO:cmdstanpy:compiling stan file C:\\Users\\Wiola\\AGH_Data_Analytics\\Lab7\\code_4.stan to exe file C:\\Users\\Wiola\\AGH_Data_Analytics\\Lab7\\code_4.exe\n",
      "INFO:cmdstanpy:compiled model executable: C:\\Users\\Wiola\\AGH_Data_Analytics\\Lab7\\code_4.exe\n",
      "INFO:cmdstanpy:compiling stan file C:\\Users\\Wiola\\AGH_Data_Analytics\\Lab7\\code_5.stan to exe file C:\\Users\\Wiola\\AGH_Data_Analytics\\Lab7\\code_5.exe\n",
      "INFO:cmdstanpy:compiled model executable: C:\\Users\\Wiola\\AGH_Data_Analytics\\Lab7\\code_5.exe\n"
     ]
    }
   ],
   "source": [
    "model1 = CmdStanModel(stan_file=r'code_1.stan')\n",
    "model2 = CmdStanModel(stan_file=r'code_2.stan')\n",
    "model3 = CmdStanModel(stan_file=r'code_3.stan')\n",
    "model4 = CmdStanModel(stan_file=r'code_4.stan')\n",
    "model5 = CmdStanModel(stan_file=r'code_5.stan')"
   ]
  },
  {
   "cell_type": "markdown",
   "metadata": {},
   "source": [
    "Excercise 2 - compare normal and student models for data from first file && Excercise 3 - compare models with different numbers of predictors"
   ]
  },
  {
   "cell_type": "code",
   "execution_count": 3,
   "metadata": {},
   "outputs": [],
   "source": [
    "F=7\n",
    "L=10\n",
    "N = (L+F)*100\n",
    "stan_data = {\n",
    "    \"N\":N,\n",
    "}"
   ]
  },
  {
   "cell_type": "code",
   "execution_count": 4,
   "metadata": {},
   "outputs": [
    {
     "name": "stderr",
     "output_type": "stream",
     "text": [
      "INFO:cmdstanpy:CmdStan start processing\n"
     ]
    },
    {
     "data": {
      "application/vnd.jupyter.widget-view+json": {
       "model_id": "e19c00dcf7d149a7b2183daf631f0074",
       "version_major": 2,
       "version_minor": 0
      },
      "text/plain": [
       "chain 1 |          | 00:00 Status"
      ]
     },
     "metadata": {},
     "output_type": "display_data"
    },
    {
     "name": "stdout",
     "output_type": "stream",
     "text": [
      "                                                                                "
     ]
    },
    {
     "name": "stderr",
     "output_type": "stream",
     "text": [
      "INFO:cmdstanpy:CmdStan done processing.\n"
     ]
    },
    {
     "name": "stdout",
     "output_type": "stream",
     "text": [
      "\n"
     ]
    },
    {
     "name": "stderr",
     "output_type": "stream",
     "text": [
      "INFO:cmdstanpy:CmdStan start processing\n"
     ]
    },
    {
     "data": {
      "application/vnd.jupyter.widget-view+json": {
       "model_id": "d6bfd96a307844fe9ab37b5595bf9a43",
       "version_major": 2,
       "version_minor": 0
      },
      "text/plain": [
       "chain 1 |          | 00:00 Status"
      ]
     },
     "metadata": {},
     "output_type": "display_data"
    },
    {
     "name": "stdout",
     "output_type": "stream",
     "text": [
      "                                                                                "
     ]
    },
    {
     "name": "stderr",
     "output_type": "stream",
     "text": [
      "INFO:cmdstanpy:CmdStan done processing.\n"
     ]
    },
    {
     "name": "stdout",
     "output_type": "stream",
     "text": [
      "\n"
     ]
    }
   ],
   "source": [
    "fit_1 = model1.sample(data={'N':N}, \n",
    "                            fixed_param=True, \n",
    "                            iter_sampling=1000, \n",
    "                            iter_warmup=0, \n",
    "                            chains = 1)\n",
    "\n",
    "fit_2 = model2.sample(data={'N':N}, \n",
    "                            fixed_param=True, \n",
    "                            iter_sampling=1000, \n",
    "                            iter_warmup=0, \n",
    "                            chains = 1)\n",
    "\n",
    "y1 = fit_1.stan_variable('y')\n",
    "y2 = fit_2.stan_variable('y')"
   ]
  },
  {
   "cell_type": "code",
   "execution_count": 5,
   "metadata": {},
   "outputs": [
    {
     "name": "stderr",
     "output_type": "stream",
     "text": [
      "INFO:cmdstanpy:CmdStan start processing\n"
     ]
    },
    {
     "data": {
      "application/vnd.jupyter.widget-view+json": {
       "model_id": "1b84b721b77249b78f6dd43a84da68d1",
       "version_major": 2,
       "version_minor": 0
      },
      "text/plain": [
       "chain 1 |          | 00:00 Status"
      ]
     },
     "metadata": {},
     "output_type": "display_data"
    },
    {
     "name": "stdout",
     "output_type": "stream",
     "text": [
      "                                                                                "
     ]
    },
    {
     "name": "stderr",
     "output_type": "stream",
     "text": [
      "INFO:cmdstanpy:CmdStan done processing.\n"
     ]
    },
    {
     "name": "stdout",
     "output_type": "stream",
     "text": [
      "\n"
     ]
    },
    {
     "name": "stderr",
     "output_type": "stream",
     "text": [
      "INFO:cmdstanpy:CmdStan start processing\n"
     ]
    },
    {
     "data": {
      "application/vnd.jupyter.widget-view+json": {
       "model_id": "3e01b5a4dcce4f749502213be2fdaec7",
       "version_major": 2,
       "version_minor": 0
      },
      "text/plain": [
       "chain 1 |          | 00:00 Status"
      ]
     },
     "metadata": {},
     "output_type": "display_data"
    },
    {
     "name": "stdout",
     "output_type": "stream",
     "text": [
      "                                                                                "
     ]
    },
    {
     "name": "stderr",
     "output_type": "stream",
     "text": [
      "INFO:cmdstanpy:CmdStan done processing.\n"
     ]
    },
    {
     "name": "stdout",
     "output_type": "stream",
     "text": [
      "\n"
     ]
    }
   ],
   "source": [
    "fit_3 = model3.sample(data={'N':N, 'y':y1[0]} ,\n",
    "                            fixed_param=True, \n",
    "                            iter_sampling=1000, \n",
    "                            iter_warmup=0, \n",
    "                            chains = 1)\n",
    "\n",
    "fit_4 = model4.sample(data={'N':N, 'y':y1[0]} ,\n",
    "                            fixed_param=True, \n",
    "                            iter_sampling=1000, \n",
    "                            iter_warmup=0, \n",
    "                            chains = 1)"
   ]
  },
  {
   "cell_type": "code",
   "execution_count": 8,
   "metadata": {},
   "outputs": [
    {
     "name": "stderr",
     "output_type": "stream",
     "text": [
      "c:\\ProgramData\\Anaconda3\\lib\\site-packages\\arviz\\stats\\stats.py:812: UserWarning: Estimated shape parameter of Pareto distribution is greater than 0.7 for one or more samples. You should consider using a more robust model, this is because importance sampling is less likely to work well if the marginal posterior and LOO posterior are very different. This is more likely to happen with a non-robust model and highly influential observations.\n",
      "  warnings.warn(\n",
      "c:\\ProgramData\\Anaconda3\\lib\\site-packages\\arviz\\stats\\stats.py:812: UserWarning: Estimated shape parameter of Pareto distribution is greater than 0.7 for one or more samples. You should consider using a more robust model, this is because importance sampling is less likely to work well if the marginal posterior and LOO posterior are very different. This is more likely to happen with a non-robust model and highly influential observations.\n",
      "  warnings.warn(\n"
     ]
    }
   ],
   "source": [
    "compare_dict = {'fit_3': fit_3, 'fit_4': fit_4}\n",
    "loo_compare = az.compare(compare_dict, ic=\"loo\")\n",
    "waic_compare = az.compare(compare_dict, ic=\"waic\")"
   ]
  },
  {
   "cell_type": "code",
   "execution_count": null,
   "metadata": {},
   "outputs": [],
   "source": []
  }
 ],
 "metadata": {
  "interpreter": {
   "hash": "ad2bdc8ecc057115af97d19610ffacc2b4e99fae6737bb82f5d7fb13d2f2c186"
  },
  "kernelspec": {
   "display_name": "Python 3.9.12 ('base')",
   "language": "python",
   "name": "python3"
  },
  "language_info": {
   "codemirror_mode": {
    "name": "ipython",
    "version": 3
   },
   "file_extension": ".py",
   "mimetype": "text/x-python",
   "name": "python",
   "nbconvert_exporter": "python",
   "pygments_lexer": "ipython3",
   "version": "3.9.12"
  },
  "orig_nbformat": 4
 },
 "nbformat": 4,
 "nbformat_minor": 2
}
